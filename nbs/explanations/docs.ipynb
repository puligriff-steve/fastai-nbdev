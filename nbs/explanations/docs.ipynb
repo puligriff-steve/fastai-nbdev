{
 "cells": [
  {
   "cell_type": "code",
   "execution_count": null,
   "metadata": {},
   "outputs": [],
   "source": [
    "#| hide\n",
    "from fastcore.utils import *\n",
    "from nbdev.config import *\n",
    "from nbdev.showdoc import show_doc\n",
    "from nbdev.doclinks import NbdevLookup"
   ]
  },
  {
   "cell_type": "markdown",
   "metadata": {},
   "source": [
    "# Docs Website\n",
    "\n",
    "> How nbdev renders a documentation website for your project.\n",
    "\n",
    "- order: 3"
   ]
  },
  {
   "cell_type": "markdown",
   "metadata": {},
   "source": [
    "## Concepts\n",
    "\n",
    "### Source Files\n",
    "\n",
    "There are two mediums in which you can author documentation in nbdev:\n",
    "\n",
    "1. Jupyter Notebooks\n",
    "2. Quarto Markdown (.qmd)\n",
    "\n",
    "For most cases, you will use Jupyter Notebooks.  However, you may choose to author a document in Quarto Markdown if there is no code on that particular page.  When in doubt, we recommend using notebooks as they are more versatile.\n",
    "\n",
    "In the case of notebooks, nbdev pre-processes them to add, remove or change the content before passing it to Quarto.  In some cases, nbdev even executes certain cells in order to render the documentation properly.  The mechanics of this are discussed in the [Notebook Processor](#notebook-processor) section below.\n",
    "\n",
    "For markdown files, [Quarto](https://quarto.org) renders these directly. \n",
    "\n",
    "### Notebook Processor\n",
    "\n",
    "Nbdev does special pre-processing on notebooks based on the following:\n",
    "\n",
    "1. **Directives**: Directives are special comments that allow you to perform operations on cells.  For example, the comment `#|hide` allows you to hide cell inputs and outputs.  You can read more about directives [on this page](./directives.ipynb). Directives that are unique to nbdev and not supported by Quarto are removed from the notebook before being passed to Quarto.\n",
    "2. **Front Matter**: Front matter allows you to specify document-level options so you don't have to repeat them on each cell.  (Similarly, `_quarto.yml` allows you to specify project-level options.)  You can read more about Quarto front-matter [here](https://quarto.org/docs/reference/formats/html.html).\n",
    "\n",
    "The directives and front-matter are used by a **Processing Pipeline** to transform notebooks.  Many of these pre-processing steps are defined in [`nbdev.processors`](https://github.com/fastai/nbdev/blob/master/nbdev/processors.py), which are then run by `nbdev.process.NBProcessor`. Some of these pre-processing steps involve running code (with [execnb](https://github.com/fastai/execnb)) in order to dynamically render API documentation. This process is explained in the [How show_doc works](#how-show_doc-works) section below.\n",
    "\n",
    "When generating your docs site, the intermediate output of these pre-processed notebooks and other quarto project files are saved into a directory named `_proc/` at the root of your repo. You can inspect the `_proc/` directory in order to debug or understand how notebooks are pre-processed.\n",
    "\n",
    "### Quarto\n",
    "\n",
    "[Quarto](https://quarto.org/) is the mechanism nbdev uses to generate web pages from notebooks. It is useful to visit the [Quarto docs](https://quarto.org/docs/guide/) and understand how it works.  nbdev automatically generates the Quarto configuration files `_quarto.yml` and `sidebar.yml` for you. \n",
    "\n",
    "You can override any settings in `_quarto.yml` by defining a `custom.yml` file.  This is explained further in the [Customizing Quarto](#customizing-quarto) section.  We explain how to customize your sidebar in the [Customizing The Sidebar](#customizing-the-sidebar) section.\n",
    "\n",
    "### Static Site\n",
    "\n",
    "Quarto has a built-in [static site generator](https://www.cloudflare.com/learning/performance/static-site-generator/) that will generate HTML, Javascript and CSS files.  These files will be placed in the `doc_path` directory as specified in your project's `settings.ini` file, which is `_docs/` by default. \n",
    "\n",
    "## Overview\n",
    "\n",
    "Below is a diagram on how these concepts fit together."
   ]
  },
  {
   "cell_type": "markdown",
   "metadata": {},
   "source": [
    "![](docs.svg)"
   ]
  },
  {
   "cell_type": "markdown",
   "metadata": {},
   "source": [
    "## Customizing Quarto\n",
    "\n",
    "You can create a `custom.yml` file in the same location as your `_quarto.yml` file to override any values in `_quarto.yml`.  For example, assume your `_quarto.yml` file looks contains this:\n",
    "\n",
    "::: {.py-2 .px-3 .mb-4 fig-align=\"center\" .border .rounded .shadow-sm}\n",
    "\n",
    "```yaml\n",
    "website:\n",
    "  title: \"nbdev\"\n",
    "  site-url: \"https://nbdev.fast.ai/\"\n",
    "  description: \"Create delightful software with Jupyter Notebooks\"\n",
    "  twitter-card: true\n",
    "  open-graph: true\n",
    "  repo-branch: master\n",
    "  repo-url: \"https://github.com/fastai/nbdev\"\n",
    "  repo-actions: [issue]\n",
    "  navbar:\n",
    "    background: primary\n",
    "    search: true\n",
    "    right:\n",
    "      - icon: github\n",
    "        href: \"https://github.com/fastai/nbdev\"\n",
    "  sidebar:\n",
    "    style: \"floating\"\n",
    "\n",
    "```\n",
    "\n",
    ":::\n",
    "\n",
    "Let's assume you want to customize your [sidebar navigation options](https://quarto.org/docs/websites/website-navigation.html#side-navigation) such that instead of \"floating\" for `sidebar.style`, you wanted your navbar to be \"docked\".  Additionally, lets assume you want a different background color using the `sidebar.background` field which is not in the configuration above.  \n",
    "\n",
    "To accomplish these tasks, you would create a `custom.yml` in the same location as `_quarto.yml` with these contents:\n",
    "\n",
    "::: {.py-2 .px-3 .mb-4 fig-align=\"center\" .border .rounded .shadow-sm}\n",
    "\n",
    "```yaml\n",
    "website:\n",
    "  sidebar:\n",
    "      style: \"docked\"\n",
    "      background: \"dark\"\n",
    "```\n",
    "\n",
    ":::\n",
    "\n",
    "\n",
    ":::{.callout-note}\n",
    "\n",
    "You can also set `custom_quarto_yml = True` in settings.ini if you wish to edit `_quarto.yml` directly instead of overriding settings in `custom.yml`.\n",
    "\n",
    ":::\n",
    "\n",
    "### Customizing The Sidebar\n",
    "\n",
    "By default nbdev automatically generates `sidebar.yml`, which specifies the tree structure of your sidebar. nbdev infers the tree structure by inspecting the directory structure containing your source files.  You can see an example of this by inspecting the folder structure of [the notebooks directory in nbdev](https://github.com/fastai/nbdev/tree/master/nbs) and the corresponding left-hand sidebar on this website.  Leading numbers in filenames and directories are ignored when naming elements of the sidebar (which you can see examples of in this project's notebooks directory).\n",
    "\n",
    "To customize the sidebar, you must set `custom_sidebar = true` in `settings.ini`.  This will prevent nbdev from regenerating this file every time the docs are re-built. This way, you an edit this file directly instead of overriding the sidebar with `custom.yml`.\n",
    "\n",
    "\n",
    "### Multiformat Branding with `_brand.yml`\n",
    "[Quarto supports `_brand.yml`](https://quarto.org/docs/authoring/brand.html)- a single YAML file that can be used to standardize the appearance of your documentation across formats.\n",
    "\n",
    "To use this specification, you would create a `brand.yml` in the same location as `_quarto.yml` with these contents:\n",
    "\n",
    "::: {.py-2 .px-3 .mb-4 fig-align=\"center\" .border .rounded .shadow-sm}\n",
    "\n",
    "```yaml\n",
    "color:\n",
    "  palette:\n",
    "    dark-grey: \"#222222\"\n",
    "    blue: \"#ddeaf1\"\n",
    "  background: blue\n",
    "  foreground: dark-grey\n",
    "  primary: black\n",
    "\n",
    "logo: \n",
    "  small: favicon.png\n",
    "\n",
    "typography:\n",
    "  fonts:\n",
    "    - family: Jura\n",
    "      source: google\n",
    "  base: Jura\n",
    "  headings: Jura\n",
    "```\n",
    "\n",
    ":::\n",
    "\n",
    "This file will then change the appearance of your documentation, across formats, to include the fonts, colors and logos specified in the file."
   ]
  },
  {
   "cell_type": "markdown",
   "metadata": {},
   "source": [
    "## How `show_doc` works"
   ]
  },
  {
   "cell_type": "markdown",
   "metadata": {},
   "source": [
    "When your documention website is built, all functions and classes you export to source code will be automatically documented with `show_doc`. This function outputs a summary of the symbol, showing its signature, docstring, and parameters. For instance, if you have this function:"
   ]
  },
  {
   "cell_type": "code",
   "execution_count": null,
   "metadata": {},
   "outputs": [],
   "source": [
    "#|exec_doc\n",
    "def say_gday(\n",
    "    greeting:str=\"G'day\",  # Greeting to use\n",
    "    strine:bool=True,      # Use incomprehensible Aussie accent?\n",
    "    dropbears:bool=False): # Also warn about drop-bears?\n",
    "    \"Says g'day, the classic Aussie greeting\"\n",
    "    ..."
   ]
  },
  {
   "cell_type": "markdown",
   "metadata": {},
   "source": [
    "This is how it's rendered in the documentation, by automatically generating a temporary cell containing:\n",
    "\n",
    "::: {.py-2 .px-3 .mb-4 fig-align=\"center\" .border .rounded .shadow-sm .overflow-auto}\n"
   ]
  },
  {
   "cell_type": "code",
   "execution_count": null,
   "metadata": {},
   "outputs": [
    {
     "data": {
      "text/markdown": [
       "---\n",
       "\n",
       "### say_gday\n",
       "\n",
       ">      say_gday (greeting:str=\"G'day\", strine:bool=True, dropbears:bool=False)\n",
       "\n",
       "Says g'day, the classic Aussie greeting\n",
       "\n",
       "|    | **Type** | **Default** | **Details** |\n",
       "| -- | -------- | ----------- | ----------- |\n",
       "| greeting | str | G'day | Greeting to use |\n",
       "| strine | bool | True | Use incomprehensible Aussie accent? |\n",
       "| dropbears | bool | False | Also warn about drop-bears? |"
      ],
      "text/plain": [
       "---\n",
       "\n",
       "### say_gday\n",
       "\n",
       ">      say_gday (greeting:str=\"G'day\", strine:bool=True, dropbears:bool=False)\n",
       "\n",
       "Says g'day, the classic Aussie greeting\n",
       "\n",
       "|    | **Type** | **Default** | **Details** |\n",
       "| -- | -------- | ----------- | ----------- |\n",
       "| greeting | str | G'day | Greeting to use |\n",
       "| strine | bool | True | Use incomprehensible Aussie accent? |\n",
       "| dropbears | bool | False | Also warn about drop-bears? |"
      ]
     },
     "execution_count": null,
     "metadata": {},
     "output_type": "execute_result"
    }
   ],
   "source": [
    "#|echo: true\n",
    "show_doc(say_gday)"
   ]
  },
  {
   "cell_type": "markdown",
   "metadata": {},
   "source": [
    ":::\n",
    "\n",
    "Because this is done automatically any time you build your docs (including automatically by continuous integration), your documentation will always contain current information about your code.\n",
    "\n",
    "You can also document code that's not created in a notebook, by using `show_doc` with imported code. For instance, if we wanted to document `release_conda`, we can import it and call `show_doc(release_conda)`:"
   ]
  },
  {
   "cell_type": "markdown",
   "metadata": {},
   "source": [
    "::: {.py-2 .px-3 .mb-4 fig-align=\"center\" .border .rounded .shadow-sm .overflow-auto}"
   ]
  },
  {
   "cell_type": "code",
   "execution_count": null,
   "metadata": {},
   "outputs": [
    {
     "data": {
      "text/markdown": [
       "---\n",
       "\n",
       "[source](https://github.com/fastai/nbdev/blob/master/nbdev/release.py#LNone){target=\"_blank\" style=\"float:right; font-size:smaller\"}\n",
       "\n",
       "### release_conda\n",
       "\n",
       ">      release_conda (path:str='conda', do_build:<function bool_arg>=True,\n",
       ">                     build_args:str='', skip_upload:<function\n",
       ">                     store_true>=False, mambabuild:<function store_true>=False,\n",
       ">                     upload_user:str=None)\n",
       "\n",
       "Create a `meta.yaml` file ready to be built into a package, and optionally build and upload it\n",
       "\n",
       "|    | **Type** | **Default** | **Details** |\n",
       "| -- | -------- | ----------- | ----------- |\n",
       "| path | str | conda | Path where package will be created |\n",
       "| do_build | bool_arg | True | Run `conda build` step |\n",
       "| build_args | str |  | Additional args (as str) to send to `conda build` |\n",
       "| skip_upload | store_true | False | Skip `anaconda upload` step |\n",
       "| mambabuild | store_true | False | Use `mambabuild` (requires `boa`) |\n",
       "| upload_user | str | None | Optional user to upload package to |"
      ],
      "text/plain": [
       "---\n",
       "\n",
       "[source](https://github.com/fastai/nbdev/blob/master/nbdev/release.py#LNone){target=\"_blank\" style=\"float:right; font-size:smaller\"}\n",
       "\n",
       "### release_conda\n",
       "\n",
       ">      release_conda (path:str='conda', do_build:<function bool_arg>=True,\n",
       ">                     build_args:str='', skip_upload:<function\n",
       ">                     store_true>=False, mambabuild:<function store_true>=False,\n",
       ">                     upload_user:str=None)\n",
       "\n",
       "Create a `meta.yaml` file ready to be built into a package, and optionally build and upload it\n",
       "\n",
       "|    | **Type** | **Default** | **Details** |\n",
       "| -- | -------- | ----------- | ----------- |\n",
       "| path | str | conda | Path where package will be created |\n",
       "| do_build | bool_arg | True | Run `conda build` step |\n",
       "| build_args | str |  | Additional args (as str) to send to `conda build` |\n",
       "| skip_upload | store_true | False | Skip `anaconda upload` step |\n",
       "| mambabuild | store_true | False | Use `mambabuild` (requires `boa`) |\n",
       "| upload_user | str | None | Optional user to upload package to |"
      ]
     },
     "execution_count": null,
     "metadata": {},
     "output_type": "execute_result"
    }
   ],
   "source": [
    "#|echo: true\n",
    "#|eval: false # to skip the show_doc import warning\n",
    "from nbdev.release import release_conda\n",
    "show_doc(release_conda)"
   ]
  },
  {
   "cell_type": "markdown",
   "metadata": {},
   "source": [
    ":::\n",
    "\n",
    "### Automatic Cell Execution\n",
    "\n",
    "When your documentation is built, all your manually added `show_doc` cells are run automatically. nbdev also executes all cells containing an `import` statement, and all exported cells -- that way we can be sure that the symbol used in your `show_doc` cell is available.\n",
    "\n",
    "We don't, however, execute any other cells. That's because you wouldn't want to wait for your entire notebook to run just to build your docs; for instance, your docs might demonstrate training a model which takes hours to complete!\n",
    "\n",
    "This leads to an important rule when authoring nbdev notebooks:\n",
    "\n",
    ":::{.callout-warning}\n",
    "\n",
    "Do not mix `import` statements (or calls to `show_doc`) with other code in a single cell. If you do, *all* the code in that cell will be executed every time you build your docs, which might lead to errors (since not all previous cells will have been executed.\n",
    "\n",
    "Instead, put your imports in separate cells, and calls to `show_doc` should contain only that one line of code -- the `show_doc` call.\n",
    "\n",
    ":::\n",
    "\n",
    "Note that nbdev automatically hides the actual `show_doc(...)` line of code. So your users only see the output."
   ]
  },
  {
   "cell_type": "markdown",
   "metadata": {},
   "source": [
    "#### Forcing Cells To Execute\n",
    "\n",
    "Sometimes you may want to execute additional cells beyond what is automatically executed by nbdev. For instance, on our [Getting Started](../getting_started.html) page we show a list of all nbdev commands, automatically generated with `nbdev_help`. We want this page to always have the most up to date list of commands and docs, so we want it to always execute when the docs are rendered. To do that, add the following directive to the top of a cell:\n",
    "\n",
    "```python\n",
    "#| exec_doc\n",
    "```\n",
    "\n",
    "Alternatively, you can get nbdev to automatically execute *all* cells when rendering your docs, by adding the following to your notebook frontmatter:\n",
    "\n",
    "```markdown\n",
    "---\n",
    "exec_all: true\n",
    "---\n",
    "```\n",
    "\n",
    "#### Skipping Execution\n",
    "\n",
    "Likewise, you can instruct nbdev to not execute any cells when rendering your docs with the following front matter:\n",
    "\n",
    "```markdown\n",
    "---\n",
    "skip_showdoc: true\n",
    "---\n",
    "```\n",
    "\n",
    "Or ignore execution for a specific cell with this directive:\n",
    "\n",
    "```python\n",
    "#|eval: false\n",
    "```"
   ]
  },
  {
   "cell_type": "markdown",
   "metadata": {},
   "source": [
    "### Why use `show_doc`?"
   ]
  },
  {
   "cell_type": "markdown",
   "metadata": {},
   "source": [
    "Many Python developers use [sphinx autodoc](https://www.sphinx-doc.org/en/master/usage/extensions/autodoc.html) to automatically document a whole module all at once. Whilst this can work reasonably well, we think there are huge benefits for both developers and users in using nbdev's approach instead\n",
    "\n",
    "The premise of nbdev's approach is that your documentation is important enough to be worth you taking the time to think carefully though each thing you want to show your users, what examples you're going to provide, maybe adding some images to explain more complex ideas, and so forth. Jupyter provides a terrific environment for creating just these kinds of documents. For instance, with Jupyter you can:\n",
    "\n",
    "- Paste images directly from your clipboard into a cell\n",
    "- Insert code and have it executed and the results displayed to users\n",
    "- Create a hierarchy of headings to help structure your page\n",
    "- ...and much more.\n",
    "\n",
    "With `show_doc`, you can insert automatically-updated API details for your library anywhere in a page. That means that you get to decide exactly how your page should look, and what information is provided where. You don't have to limit yourself to the limits of ASCII art for diagrams, and can include full end-to-end code walk-through of the processes your users will be following."
   ]
  },
  {
   "cell_type": "markdown",
   "metadata": {},
   "source": [
    "## Previewing Your Site Locally"
   ]
  },
  {
   "cell_type": "markdown",
   "metadata": {},
   "source": [
    "You can preview your docs anytime by running `nbdev_preview`.  While in preview mode, you can make updates to notebooks and it will be reflected (after a small delay) in your browser."
   ]
  },
  {
   "cell_type": "markdown",
   "metadata": {},
   "source": [
    "## Deploying Docs With GitHub Actions\n",
    "\n",
    "If your nbdev project lives in GitHub, we include automation that deploys your documentation site for you on [GitHub Pages](https://pages.github.com/).\n",
    "\n",
    "nbdev comes bundled with a [workflow file](https://github.com/fastai/nbdev/blob/master/.github/workflows/deploy.yaml) that enables this automation.  This workflow is automatically triggered whenever you change any of the content in your repo. The following GitHub Actions workflows will run to generate a docs site (in this order):\n",
    "\n",
    "1. `Deploy to GitHub Pages`: This workflow builds the docs with nbdev. This is defined in [deploy.yaml](https://github.com/fastai/nbdev/blob/master/.github/workflows/deploy.yaml) and references [fastai/workflows/quarto-ghp](https://github.com/fastai/workflows/blob/master/quarto-ghp/action.yml).\n",
    "2. `pages build and deployment`: This is an internal built-in workflow that GitHub provides whenever GitHub pages are enabled.\n",
    "\n",
    "Should anything go wrong in your page build, you can always look at the logs of these workflows. Like other workflows, these can be found in the Actions tab of your repo:"
   ]
  },
  {
   "cell_type": "markdown",
   "metadata": {},
   "source": [
    "![](images/github-actions-pages.png){fig-align=\"center\" .border .rounded .shadow-sm}"
   ]
  },
  {
   "cell_type": "markdown",
   "metadata": {},
   "source": [
    "To read more about GitHub Actions, see [their docs](https://github.com/features/actions)."
   ]
  },
  {
   "cell_type": "markdown",
   "metadata": {},
   "source": [
    "## Deploying Your Docs On Other Platforms\n",
    "\n",
    "You can generate all of the static assets for your site (html, css, etc) by running the command `nbdev_docs`.  After running this command, all of the files for your documentation site will be located in the `_docs/` directory (the location is configurable by `doc_path` in `settings.ini`) at the root of your repository. This directory is not checked into git and is ignored by `.gitignore`, but you can use these files to deploy to any hosting platform you want.\n",
    "\n",
    "You can also use the `quarto publish` command to render your docs on a wide variety of other platforms, which is discussed in the Quarto docs [here](https://quarto.org/docs/publishing/other.html). **After running the command `nbdev_docs`, the `quarto publish` command must be run from the root of the `_proc/` directory**, which is located at the root of your repo. The built-in help of `quarto publish` provides a good overview of the various targets available:\n",
    "\n",
    "\n",
    ":::{.callout-important}\n",
    "\n",
    "#### Call `nbdev_proc_nbs` and publish from the `_proc/` directory\n",
    "\n",
    "To use `quarto publish` with nbdev, you must run the `nbdev_proc_nbs` command to pre-process your notebooks before publishing your docs.  As a reminder, `nbdev_proc_nbs` creates the directory `_proc/` at the root of your project that Quarto uses to render your site.\n",
    "\n",
    "For example, to publish a site to Netlify you can run the following command from the root of your repo:\n",
    "\n",
    "```bash\n",
    "nbdev_proc_nbs && cd _proc && quarto publish netlify\n",
    "```\n",
    "\n",
    ":::\n",
    "\n"
   ]
  },
  {
   "cell_type": "code",
   "execution_count": null,
   "metadata": {},
   "outputs": [
    {
     "name": "stdout",
     "output_type": "stream",
     "text": [
      "\n",
      "  \u001b[1mUsage:\u001b[22m   \u001b[35mquarto publish \u001b[33m[\u001b[35m\u001b[35mprovider\u001b[35m\u001b[33m]\u001b[35m \u001b[33m[\u001b[35m\u001b[35mpath\u001b[35m\u001b[33m]\u001b[35m\u001b[39m\n",
      "  \u001b[1mVersion:\u001b[22m \u001b[33m1.1.75                          \n",
      "           \u001b[39m                                \n",
      "\n",
      "  \u001b[1mDescription:\u001b[22m\n",
      "\n",
      "    Publish a document or project. Available providers include:\n",
      "                                                               \n",
      "     - Quarto Pub (quarto-pub)                                 \n",
      "     - GitHub Pages (gh-pages)                                 \n",
      "     - RStudio Connect (connect)                               \n",
      "                                                               \n",
      "     - Netlify (netlify)                                       \n",
      "    Accounts are configured interactively during publishing.   \n",
      "    Manage/remove accounts with: quarto publish accounts       \n",
      "\n",
      "  \u001b[1mOptions:\u001b[22m\n",
      "\n",
      "    \u001b[34m-h\u001b[39m, \u001b[34m--help\u001b[39m              \u001b[31m\u001b[1m-\u001b[22m\u001b[39m Show this help.                                     \n",
      "    \u001b[34m--id\u001b[39m          \u001b[33m<\u001b[39m\u001b[35mid\u001b[39m\u001b[33m>\u001b[39m      \u001b[31m\u001b[1m-\u001b[22m\u001b[39m Identifier of content to publish                    \n",
      "    \u001b[34m--server\u001b[39m      \u001b[33m<\u001b[39m\u001b[35mserver\u001b[39m\u001b[33m>\u001b[39m  \u001b[31m\u001b[1m-\u001b[22m\u001b[39m Server to publish to                                \n",
      "    \u001b[34m--token\u001b[39m       \u001b[33m<\u001b[39m\u001b[35mtoken\u001b[39m\u001b[33m>\u001b[39m   \u001b[31m\u001b[1m-\u001b[22m\u001b[39m Access token for publising provider                 \n",
      "    \u001b[34m--no-render\u001b[39m             \u001b[31m\u001b[1m-\u001b[22m\u001b[39m Do not render before publishing.                    \n",
      "    \u001b[34m--no-prompt\u001b[39m             \u001b[31m\u001b[1m-\u001b[22m\u001b[39m Do not prompt to confirm publishing destination     \n",
      "    \u001b[34m--no-browser\u001b[39m            \u001b[31m\u001b[1m-\u001b[22m\u001b[39m Do not open a browser to the site after publishing  \n",
      "    \u001b[34m--log\u001b[39m         \u001b[33m<\u001b[39m\u001b[35mlevel\u001b[39m\u001b[33m>\u001b[39m   \u001b[31m\u001b[1m-\u001b[22m\u001b[39m Path to log file                                    \n",
      "    \u001b[34m--log-level\u001b[39m   \u001b[33m<\u001b[39m\u001b[35mlevel\u001b[39m\u001b[33m>\u001b[39m   \u001b[31m\u001b[1m-\u001b[22m\u001b[39m Log level (info, warning, error, critical)          \n",
      "    \u001b[34m--log-format\u001b[39m  \u001b[33m<\u001b[39m\u001b[35mformat\u001b[39m\u001b[33m>\u001b[39m  \u001b[31m\u001b[1m-\u001b[22m\u001b[39m Log format (plain, json-stream)                     \n",
      "    \u001b[34m--quiet\u001b[39m                 \u001b[31m\u001b[1m-\u001b[22m\u001b[39m Suppress console output.                            \n",
      "\n",
      "  \u001b[1mCommands:\u001b[22m\n",
      "\n",
      "    \u001b[34mhelp\u001b[39m  \u001b[33m[\u001b[39m\u001b[35mcommand\u001b[39m\u001b[33m]\u001b[39m  \u001b[31m\u001b[1m-\u001b[22m\u001b[39m Show this help or the help of a sub-command.\n",
      "\n",
      "  \u001b[1mExamples:\u001b[22m\n",
      "\n",
      "    \u001b[2m\u001b[1mPublish project (prompt for provider):\u001b[2m\u001b[22m  quarto publish                                                  \n",
      "    \u001b[2m\u001b[1mPublish document (prompt for provider):\u001b[2m\u001b[22m quarto publish document.qmd                                     \n",
      "    \u001b[2m\u001b[1mPublish project to Netlify:\u001b[2m\u001b[22m             quarto publish netlify                                          \n",
      "    \u001b[2m\u001b[1mPublish with explicit target:\u001b[2m\u001b[22m           quarto publish netlify --id DA36416-F950-4647-815C-01A24233E294 \n",
      "    \u001b[2m\u001b[1mPublish project to GitHub Pages:\u001b[2m\u001b[22m        quarto publish gh-pages                                         \n",
      "    \u001b[2m\u001b[1mPublish project to RStudio Connect:\u001b[2m\u001b[22m     quarto publish connect                                          \n",
      "    \u001b[2m\u001b[1mPublish with explicit credentials:\u001b[2m\u001b[22m      quarto publish connect --server example.com --token 01A24233E294\n",
      "    \u001b[2m\u001b[1mPublish without confirmation prompt:\u001b[2m\u001b[22m    quarto publish --no-prompt                                      \n",
      "    \u001b[2m\u001b[1mPublish without rendering:\u001b[2m\u001b[22m              quarto publish --no-render                                      \n",
      "    \u001b[2m\u001b[1mPublish without opening browser:\u001b[2m\u001b[22m        quarto publish --no-browser                                     \n",
      "    \u001b[2m\u001b[1mManage/remove publishing accounts:\u001b[2m\u001b[22m      quarto publish accounts                                         \n",
      "\n"
     ]
    }
   ],
   "source": [
    "!quarto publish -h"
   ]
  },
  {
   "cell_type": "code",
   "execution_count": null,
   "metadata": {},
   "outputs": [],
   "source": []
  }
 ],
 "metadata": {
  "kernelspec": {
   "display_name": "python3",
   "language": "python",
   "name": "python3"
  }
 },
 "nbformat": 4,
 "nbformat_minor": 4
}
