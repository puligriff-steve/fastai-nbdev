{
 "cells": [
  {
   "cell_type": "code",
   "execution_count": null,
   "metadata": {},
   "outputs": [],
   "source": [
    "#|default_exp doclinks"
   ]
  },
  {
   "cell_type": "markdown",
   "metadata": {},
   "source": [
    "# doclinks\n",
    "> Generating a documentation index from a module\n",
    "- order: 5"
   ]
  },
  {
   "cell_type": "code",
   "execution_count": null,
   "metadata": {},
   "outputs": [],
   "source": [
    "#|export\n",
    "from nbdev.config import *\n",
    "from nbdev.maker import *\n",
    "from nbdev.export import *\n",
    "from nbdev.imports import *\n",
    "\n",
    "from fastcore.script import *\n",
    "from fastcore.utils import *\n",
    "from fastcore.meta import delegates\n",
    "from fastcore.net import urlread\n",
    "\n",
    "import ast,builtins,contextlib\n",
    "import importlib\n",
    "\n",
    "from astunparse import unparse\n",
    "from io import BytesIO\n",
    "from collections import defaultdict\n",
    "from pprint import pformat\n",
    "from urllib.parse import urljoin\n",
    "from functools import lru_cache\n",
    "from types import ModuleType\n",
    "\n",
    "from importlib.metadata import entry_points"
   ]
  },
  {
   "cell_type": "code",
   "execution_count": null,
   "metadata": {},
   "outputs": [],
   "source": [
    "#|hide\n",
    "from IPython.display import Markdown,display\n",
    "from unittest.mock import patch as xpatch\n",
    "from fastcore.test import *\n",
    "from pdb import set_trace\n",
    "from importlib import reload\n",
    "from nbdev.showdoc import show_doc"
   ]
  },
  {
   "cell_type": "markdown",
   "metadata": {},
   "source": [
    "## Create the module index"
   ]
  },
  {
   "cell_type": "code",
   "execution_count": null,
   "metadata": {},
   "outputs": [],
   "source": [
    "#|export\n",
    "def _sym_nm(klas, sym): return f'{unparse(klas).strip()}.{sym.name}'\n",
    "\n",
    "def _binop_leafs(bo, o):\n",
    "    \"List of all leaf nodes under a `BinOp`\"\n",
    "    def f(b): return _binop_leafs(b, o) if isinstance(b, ast.BinOp) else [_sym_nm(b,o)]\n",
    "    return f(bo.left) + f(bo.right)\n",
    "\n",
    "def patch_name(o):\n",
    "    \"If `o` is decorated with `patch` or `patch_to`, return its class-prefix name\"\n",
    "    if not isinstance(o, (ast.FunctionDef,ast.AsyncFunctionDef)): return o.name\n",
    "    d = first([d for d in o.decorator_list if decor_id(d).startswith('patch')])\n",
    "    if not d: return o.name\n",
    "    nm = decor_id(d)\n",
    "    if nm=='patch': \n",
    "        a = o.args.args[0].annotation\n",
    "        if isinstance(a, ast.BinOp): return _binop_leafs(a, o)\n",
    "    elif nm=='patch_to': a = d.args[0]\n",
    "    else: return o.name\n",
    "    return _sym_nm(a,o)"
   ]
  },
  {
   "cell_type": "code",
   "execution_count": null,
   "metadata": {},
   "outputs": [],
   "source": [
    "def _test_patch(code): return patch_name(ast.parse(code).body[0])\n",
    "s = \"@patch\\ndef _f(self:_T): ...\"\n",
    "test_eq('_T._f', _test_patch(s))"
   ]
  },
  {
   "cell_type": "code",
   "execution_count": null,
   "metadata": {},
   "outputs": [],
   "source": [
    "s = \"@patch_to(_T)\\ndef _g(self): ...\"\n",
    "test_eq('_T._g', _test_patch(s))"
   ]
  },
  {
   "cell_type": "code",
   "execution_count": null,
   "metadata": {},
   "outputs": [],
   "source": [
    "# Get all patched classes when patching with a union\n",
    "s = \"@patch\\ndef _f(self:_T|_U|_V): ...\"\n",
    "test_eq(_test_patch(s), ['_T._f', '_U._f', '_V._f'])"
   ]
  },
  {
   "cell_type": "code",
   "execution_count": null,
   "metadata": {},
   "outputs": [],
   "source": [
    "#|export\n",
    "def _iter_py_cells(p):\n",
    "    \"Yield cells from an exported Python file.\"\n",
    "    p = Path(p)\n",
    "    cells = p.read_text(encoding='utf-8').split(\"\\n# %% \")\n",
    "    has_cell_number = get_config().cell_number\n",
    "    for cell in cells[1:]:\n",
    "        top,code = cell.split('\\n', 1)\n",
    "        try:\n",
    "            if has_cell_number:\n",
    "                *nb,idx = top.split()\n",
    "                nb = ' '.join(nb)\n",
    "                idx = int(idx)\n",
    "            else:\n",
    "                nb = top\n",
    "                idx = None\n",
    "        except ValueError: raise ValueError(f\"Unexpected format in '{p}' at cell:\\n```\\n# %% {cell.strip()}.\\n```\\n\"\n",
    "                                            \"The expected format is: '# %% {nb_path} {cell_idx}'.\")\n",
    "        nb_path = None if nb=='auto' else (p.parent/nb).resolve()  # NB paths are stored relative to .py file\n",
    "        if code.endswith('\\n'): code=code[:-1]\n",
    "        yield AttrDict(nb=nb, idx=idx, code=code, nb_path=nb_path, py_path=p.resolve())"
   ]
  },
  {
   "cell_type": "code",
   "execution_count": null,
   "metadata": {},
   "outputs": [],
   "source": [
    "#|hide\n",
    "# it = _iter_py_cells('../../nbdev/sync.py')\n",
    "# display(next(it))\n",
    "# display(next(it))"
   ]
  },
  {
   "cell_type": "code",
   "execution_count": null,
   "metadata": {},
   "outputs": [],
   "source": [
    "#|export\n",
    "def _nbpath2html(p): return p.with_name(re.sub(r'^\\d+[a-zA-Z0-9]*_', '', p.name.lower())).with_suffix('.html')"
   ]
  },
  {
   "cell_type": "code",
   "execution_count": null,
   "metadata": {},
   "outputs": [],
   "source": [
    "#|hide\n",
    "test_eq(_nbpath2html(Path('foo/bar/012abc_my.notebook.ipynb')), Path('foo/bar/my.notebook.html'))"
   ]
  },
  {
   "cell_type": "code",
   "execution_count": null,
   "metadata": {},
   "outputs": [],
   "source": [
    "#|export\n",
    "def _get_modidx(py_path, code_root, nbs_path):\n",
    "    \"Get module symbol index for a Python source file\"\n",
    "    cfg = get_config()\n",
    "    rel_name = py_path.resolve().relative_to(code_root).as_posix()\n",
    "    mod_name = '.'.join(rel_name.rpartition('.')[0].split('/'))  # module name created by py_path\n",
    "\n",
    "    _def_types = ast.FunctionDef,ast.AsyncFunctionDef,ast.ClassDef\n",
    "    d = {}\n",
    "    for cell in _iter_py_cells(py_path):\n",
    "        if 'auto' in cell.nb: continue\n",
    "        loc = _nbpath2html(cell.nb_path.relative_to(nbs_path))\n",
    "\n",
    "        def _stor(nm):\n",
    "            for n in L(nm): d[f'{mod_name}.{n}'] = f'{loc.as_posix()}#{n.lower()}',rel_name\n",
    "        for tree in ast.parse(cell.code).body:\n",
    "            if isinstance(tree, _def_types): _stor(patch_name(tree))\n",
    "            if isinstance(tree, ast.ClassDef):\n",
    "                for t2 in tree.body:\n",
    "                    if isinstance(t2, _def_types): _stor(f'{tree.name}.{t2.name}')\n",
    "    return {mod_name: d}"
   ]
  },
  {
   "cell_type": "code",
   "execution_count": null,
   "metadata": {},
   "outputs": [],
   "source": [
    "#|hide\n",
    "# _get_modidx(get_config().lib_path/'sync.py', get_config().lib_path, get_config().nbs_path)"
   ]
  },
  {
   "cell_type": "code",
   "execution_count": null,
   "metadata": {},
   "outputs": [],
   "source": [
    "#|export\n",
    "def _build_modidx(dest=None, nbs_path=None, skip_exists=False):\n",
    "    \"Create _modidx.py\"\n",
    "    if dest is None: dest = get_config().lib_path\n",
    "    if not Path(dest).exists(): return\n",
    "    nbs_path = Path(nbs_path or get_config().nbs_path).resolve()\n",
    "    if os.environ.get('IN_TEST',0): return\n",
    "    idxfile = dest/'_modidx.py'\n",
    "    if skip_exists and idxfile.exists(): return\n",
    "    with contextlib.suppress(FileNotFoundError): idxfile.unlink()\n",
    "    if idxfile.exists(): res = exec_local(idxfile.read_text(encoding='utf-8'), 'd')\n",
    "    else: res = dict(syms={}, settings={}) \n",
    "    res['settings'] = {k:v for k,v in get_config().d.items()\n",
    "                       if k in ('doc_host','doc_baseurl','lib_path','git_url','branch')}\n",
    "    code_root = dest.parent.resolve()\n",
    "    for file in globtastic(dest, file_glob=\"*.py\", skip_file_re='^_', skip_folder_re=r\"\\.ipynb_checkpoints\"):\n",
    "        try: res['syms'].update(_get_modidx((dest.parent/file).resolve(), code_root, nbs_path=nbs_path))\n",
    "        except ValueError: pass\n",
    "    idxfile.write_text(\"# Autogenerated by nbdev\\n\\nd = \"+pformat(res, width=140, indent=2, compact=True)+'\\n')"
   ]
  },
  {
   "cell_type": "code",
   "execution_count": null,
   "metadata": {},
   "outputs": [],
   "source": [
    "# _build_modidx()"
   ]
  },
  {
   "cell_type": "code",
   "execution_count": null,
   "metadata": {},
   "outputs": [],
   "source": [
    "#| hide\n",
    "import shutil"
   ]
  },
  {
   "cell_type": "code",
   "execution_count": null,
   "metadata": {},
   "outputs": [
    {
     "data": {
      "text/plain": [
       "{'tmp.some.thing.h_n': ('everything.html#h_n', 'tmp/some/thing.py')}"
      ]
     },
     "execution_count": null,
     "metadata": {},
     "output_type": "execute_result"
    }
   ],
   "source": [
    "#| hide\n",
    "#| eval:false\n",
    "with contextlib.suppress(FileNotFoundError): shutil.rmtree('tmp')\n",
    "\n",
    "everything_fn = '../../tests/01_everything.ipynb'\n",
    "nb_export('../../tests/00_some.thing.ipynb', 'tmp')\n",
    "nb_export(everything_fn, 'tmp')\n",
    "\n",
    "mod_fn = Path('tmp')\n",
    "_build_modidx(mod_fn, nbs_path=Path('../../tests/').resolve())\n",
    "\n",
    "d = exec_import('tmp._modidx', 'd')['d']\n",
    "d['syms']['tmp.some.thing']"
   ]
  },
  {
   "cell_type": "markdown",
   "metadata": {},
   "source": [
    "## Export a notebook"
   ]
  },
  {
   "cell_type": "code",
   "execution_count": null,
   "metadata": {},
   "outputs": [],
   "source": [
    "#|export\n",
    "@delegates(globtastic)\n",
    "def nbglob(path=None, skip_folder_re = '^[_.]', file_glob='*.ipynb', skip_file_re='^[_.]', key='nbs_path', as_path=False, **kwargs):\n",
    "    \"Find all files in a directory matching an extension given a config key.\"\n",
    "    path = Path(path or get_config()[key])\n",
    "    recursive=get_config().recursive\n",
    "    res = globtastic(path, file_glob=file_glob, skip_folder_re=skip_folder_re,\n",
    "                     skip_file_re=skip_file_re, recursive=recursive, **kwargs)\n",
    "    return res.map(Path) if as_path else res"
   ]
  },
  {
   "cell_type": "code",
   "execution_count": null,
   "metadata": {},
   "outputs": [],
   "source": [
    "#|export\n",
    "def nbglob_cli(\n",
    "    path:str=None, # Path to notebooks\n",
    "    symlinks:bool=False, # Follow symlinks?\n",
    "    file_glob:str='*.ipynb', # Only include files matching glob\n",
    "    file_re:str=None, # Only include files matching regex\n",
    "    folder_re:str=None, # Only enter folders matching regex\n",
    "    skip_file_glob:str=None, # Skip files matching glob\n",
    "    skip_file_re:str='^[_.]', # Skip files matching regex\n",
    "    skip_folder_re:str = '^[_.]'): # Skip folders matching regex\n",
    "    \"Find all files in a directory matching an extension given a config key.\"\n",
    "    return nbglob(path, symlinks=symlinks, file_glob=file_glob, file_re=file_re, folder_re=folder_re,\n",
    "                  skip_file_glob=skip_file_glob, skip_file_re=skip_file_re, skip_folder_re=skip_folder_re)"
   ]
  },
  {
   "cell_type": "code",
   "execution_count": null,
   "metadata": {},
   "outputs": [],
   "source": [
    "#|export\n",
    "@call_parse\n",
    "@delegates(nbglob_cli)\n",
    "def nbdev_export(\n",
    "    path:str=None, # Path or filename\n",
    "    procs:Param(\"tokens naming the export processors to use.\", nargs=\"*\", choices=optional_procs())=\"black_format\",\n",
    "    **kwargs):\n",
    "    \"Export notebooks in `path` to Python modules\"\n",
    "    if os.environ.get('IN_TEST',0): return\n",
    "    if not is_nbdev(): raise Exception('`nbdev_export` must be called from a directory within a nbdev project.')\n",
    "    if procs:\n",
    "        import nbdev.export\n",
    "        procs = [getattr(nbdev.export, p) for p in L(procs)]\n",
    "    files = nbglob(path=path, as_path=True, **kwargs).sorted('name')\n",
    "    for f in files: nb_export(f, procs=procs)\n",
    "    add_init(get_config().lib_path)\n",
    "    _build_modidx()"
   ]
  },
  {
   "cell_type": "markdown",
   "metadata": {},
   "source": [
    "`procs` names the optional processors you wish to run on the exported cells of your notebook.\n",
    "\n",
    "N.B.: the `black_format` processor is passed in by default. But it is a no-op, unless `black_formatting=True` is set in your `settings.ini` configuration. You can omit it from `nbdev_export` on the command line by passing in `--procs`."
   ]
  },
  {
   "cell_type": "markdown",
   "metadata": {},
   "source": [
    "## Construct Index"
   ]
  },
  {
   "cell_type": "code",
   "execution_count": null,
   "metadata": {},
   "outputs": [],
   "source": [
    "#|export\n",
    "typs = 'module','class','method','function'\n",
    "bset = set(dir(builtins))"
   ]
  },
  {
   "cell_type": "code",
   "execution_count": null,
   "metadata": {},
   "outputs": [],
   "source": [
    "#|export\n",
    "def create_index(url, pre=None):\n",
    "    \"Create a documentation index from a sphinx inventory file at `url`, with optional prefix `pre`\"\n",
    "    try: from sphinx.util.inventory import InventoryFile\n",
    "    except ImportError: raise ImportError('`sphinx` is a dependency for building indexes. Run `pip install sphinx` to use `create_index`.')\n",
    "    pre = ifnone(pre, f\"{url}/\")\n",
    "    invs = urlread(f'{url}/objects.inv', decode=False)\n",
    "    idx = InventoryFile.load(stream=BytesIO(invs), uri=pre, joinfunc=urljoin)\n",
    "    _get = lambda o: {k:v[2] for k,v in idx[f'py:{o}'].items() if k[0]!='_'}\n",
    "    d = {o:_get(o) for o in typs}\n",
    "    syms = defaultdict(dict)\n",
    "    for o in typs:\n",
    "        for k,v in d[o].items():\n",
    "            if k.split('.')[0] in bset: k = 'builtins.' + k\n",
    "            modparts = k.split(\".\")[:-2 if o=='method' else -1]\n",
    "            if modparts: syms['.'.join(modparts)][k] = v\n",
    "    return syms"
   ]
  },
  {
   "cell_type": "code",
   "execution_count": null,
   "metadata": {},
   "outputs": [
    {
     "data": {
      "text/plain": [
       "{'builtins.bool': 'https://docs.python.org/3/library/functions.html#bool',\n",
       " 'builtins.bytearray': 'https://docs.python.org/3/library/stdtypes.html#bytearray',\n",
       " 'builtins.bytes': 'https://docs.python.org/3/library/stdtypes.html#bytes',\n",
       " 'builtins.complex': 'https://docs.python.org/3/library/functions.html#complex',\n",
       " 'builtins.dict': 'https://docs.python.org/3/library/stdtypes.html#dict',\n",
       " 'builtins.float': 'https://docs.python.org/3/library/functions.html#float',\n",
       " 'builtins.frozenset': 'https://docs.python.org/3/library/stdtypes.html#frozenset',\n",
       " 'builtins.int': 'https://docs.python.org/3/library/functions.html#int',\n",
       " 'builtins.list': 'https://docs.python.org/3/library/stdtypes.html#list',\n",
       " 'builtins.memoryview': 'https://docs.python.org/3/library/stdtypes.html#memoryview'}"
      ]
     },
     "execution_count": null,
     "metadata": {},
     "output_type": "execute_result"
    }
   ],
   "source": [
    "url = 'https://docs.python.org/3'\n",
    "syms = create_index(url)\n",
    "\n",
    "for b in syms['builtins']:\n",
    "    b = b.split('.')\n",
    "    if len(b) != 2: continue\n",
    "    b = b[1]\n",
    "    assert b in bset\n",
    "\n",
    "dict(list(syms['builtins'].items())[:10])"
   ]
  },
  {
   "cell_type": "markdown",
   "metadata": {},
   "source": [
    "## Query the module index"
   ]
  },
  {
   "cell_type": "code",
   "execution_count": null,
   "metadata": {},
   "outputs": [],
   "source": [
    "#|export\n",
    "import importlib,ast\n",
    "from functools import lru_cache"
   ]
  },
  {
   "cell_type": "code",
   "execution_count": null,
   "metadata": {},
   "outputs": [],
   "source": [
    "#|export\n",
    "def _find_mod(mod):\n",
    "    mp,_,mr = mod.partition('/')\n",
    "    spec = importlib.util.find_spec(mp)\n",
    "    if not spec: return\n",
    "    loc = Path(spec.origin).parent\n",
    "    return loc/mr\n",
    "\n",
    "@lru_cache(None)\n",
    "def _get_exps(mod):\n",
    "    \"Get the line numbers for function and class definitions in module\"\n",
    "    mf = _find_mod(mod)\n",
    "    if not mf: return {}\n",
    "    txt = mf.read_text(encoding='utf-8')\n",
    "    _def_types = ast.FunctionDef,ast.AsyncFunctionDef,ast.ClassDef\n",
    "    d = {}\n",
    "    for tree in ast.parse(txt).body:\n",
    "        if isinstance(tree, _def_types):\n",
    "            for t in L(patch_name(tree)): d[t] = tree.lineno\n",
    "        if isinstance(tree, ast.ClassDef): d.update({tree.name+\".\"+t2.name: t2.lineno for t2 in tree.body if isinstance(t2, _def_types)})\n",
    "    return d\n",
    "\n",
    "def _lineno(sym, fname): return _get_exps(fname).get(sym, None) if fname else None"
   ]
  },
  {
   "cell_type": "code",
   "execution_count": null,
   "metadata": {},
   "outputs": [],
   "source": [
    "#|hide\n",
    "_get_exps.cache_clear()\n",
    "\n",
    "# Test _get_exps caching\n",
    "initial = _get_exps.cache_info()\n",
    "_ = _get_exps('nbdev/maker.py')  # First call should miss\n",
    "after_first = _get_exps.cache_info()\n",
    "_ = _get_exps('nbdev/maker.py')  # Second call should hit\n",
    "after_second = _get_exps.cache_info()\n",
    "\n",
    "test_eq(after_first.misses, initial.misses + 1)\n",
    "test_eq(after_first.hits, initial.hits)\n",
    "test_eq(after_second.hits, after_first.hits + 1)\n",
    "test_eq(after_second.misses, after_first.misses)"
   ]
  },
  {
   "cell_type": "code",
   "execution_count": null,
   "metadata": {},
   "outputs": [],
   "source": [
    "#|hide\n",
    "assert _lineno('urlsend', 'fastcore/net.py')\n",
    "assert _lineno('ModuleMaker.make', 'nbdev/maker.py')"
   ]
  },
  {
   "cell_type": "code",
   "execution_count": null,
   "metadata": {},
   "outputs": [],
   "source": [
    "#|export\n",
    "def _qual_sym(s, settings):\n",
    "    \"Get qualified nb, py, and github paths for a symbol s\"\n",
    "    if not isinstance(s,tuple): return s\n",
    "    nb,py = s\n",
    "    nbbase = urljoin(settings[\"doc_host\"]+'/',settings[\"doc_baseurl\"])\n",
    "    nb = urljoin(nbbase+'/', nb)\n",
    "    gh = urljoin(settings[\"git_url\"]+'/', f'blob/{settings[\"branch\"]}/{py}')\n",
    "    return nb,py,gh\n",
    "\n",
    "def _qual_mod(mod_d, settings): return {sym:_qual_sym(s, settings) for sym,s in mod_d.items()}\n",
    "def _qual_syms(entries):\n",
    "    settings = entries['settings']\n",
    "    if 'doc_host' not in settings: return entries\n",
    "    return {'syms': {mod:_qual_mod(d, settings) for mod,d in entries['syms'].items()}, 'settings':settings}"
   ]
  },
  {
   "cell_type": "code",
   "execution_count": null,
   "metadata": {},
   "outputs": [],
   "source": [
    "#|export\n",
    "_re_backticks = re.compile(r'`([^`\\s]+?)(?:\\(\\))?`')"
   ]
  },
  {
   "cell_type": "code",
   "execution_count": null,
   "metadata": {},
   "outputs": [],
   "source": [
    "#|hide\n",
    "test_eq(_re_backticks.findall('test `foo` here'), ['foo'])\n",
    "test_eq(_re_backticks.findall('test `foo()` here'), ['foo'])\n",
    "test_eq(_re_backticks.findall('multiple `foo` and `bar()` matches'), ['foo', 'bar'])\n",
    "test_eq(_re_backticks.findall('no match'), [])\n",
    "test_eq(_re_backticks.findall('`weird``thing`'), ['weird', 'thing'])\n",
    "test_eq(_re_backticks.findall('`spaces not allowed `'), [])\n",
    "test_eq(_re_backticks.findall('`sym.with.dots`'), ['sym.with.dots'])\n",
    "test_eq(_re_backticks.findall('unicode `αβγ`'), ['αβγ'])\n",
    "test_eq(_re_backticks.findall('long `extremely.long.module.name.with.many.dots.function`'), \n",
    "        ['extremely.long.module.name.with.many.dots.function'])\n",
    "test_eq(_re_backticks.findall('special chars `foo[bar]` `foo$bar`'), ['foo[bar]', 'foo$bar'])\n",
    "test_eq(_re_backticks.findall('consecutive `foo``bar``baz`'), ['foo', 'bar', 'baz'])"
   ]
  },
  {
   "cell_type": "code",
   "execution_count": null,
   "metadata": {},
   "outputs": [],
   "source": [
    "#|export\n",
    "@lru_cache(None)\n",
    "def _build_lookup_table(strip_libs=None, incl_libs=None, skip_mods=None):\n",
    "    cfg = get_config()\n",
    "    if strip_libs is None:\n",
    "        try: strip_libs = cfg.get('strip_libs', cfg.get('lib_path', 'nbdev').name).split()\n",
    "        except FileNotFoundError: strip_libs = 'nbdev'\n",
    "    skip_mods = setify(skip_mods)\n",
    "    strip_libs = L(strip_libs)\n",
    "    if incl_libs is not None: incl_libs = (L(incl_libs)+strip_libs).unique()\n",
    "    entries = {}\n",
    "    try: eps = entry_points(group='nbdev')\n",
    "    # Python 3.9 fallback - entry_points() doesn't accept group parameter\n",
    "    except TypeError: eps = entry_points().get('nbdev', [])\n",
    "    \n",
    "    for o in eps:\n",
    "        if incl_libs is not None and o.dist.name not in incl_libs: continue\n",
    "        try: entries[o.name] = _qual_syms(o.load())\n",
    "        except Exception: pass\n",
    "    py_syms = merge(*L(o['syms'].values() for o in entries.values()).concat())\n",
    "    for m in strip_libs:\n",
    "        if m in entries:\n",
    "            _d = entries[m]\n",
    "            stripped = {}\n",
    "            for mod, dets in _d['syms'].items():\n",
    "                if mod not in skip_mods:\n",
    "                    for k,v in dets.items():\n",
    "                        k = remove_prefix(k,f\"{mod}.\")\n",
    "                        if k not in stripped: stripped[k] = v\n",
    "            py_syms = merge(stripped, py_syms)\n",
    "    return entries,py_syms"
   ]
  },
  {
   "cell_type": "code",
   "execution_count": null,
   "metadata": {},
   "outputs": [],
   "source": [
    "#|hide\n",
    "_build_lookup_table.cache_clear()\n",
    "\n",
    "# Test _build_lookup_table caching\n",
    "initial = _build_lookup_table.cache_info()\n",
    "_ = _build_lookup_table()  # First call should miss\n",
    "after_first = _build_lookup_table.cache_info()\n",
    "_ = _build_lookup_table()  # Second call should hit\n",
    "after_second = _build_lookup_table.cache_info()\n",
    "\n",
    "test_eq(after_first.misses, initial.misses + 1)\n",
    "test_eq(after_first.hits, initial.hits)\n",
    "test_eq(after_second.hits, after_first.hits + 1)\n",
    "test_eq(after_second.misses, after_first.misses)"
   ]
  },
  {
   "cell_type": "code",
   "execution_count": null,
   "metadata": {},
   "outputs": [],
   "source": [
    "#|export\n",
    "class NbdevLookup:\n",
    "    \"Mapping from symbol names to docs and source URLs\"\n",
    "    def __init__(self, strip_libs=None, incl_libs=None, skip_mods=None, ns=None):\n",
    "        self.entries,self.syms = _build_lookup_table(strip_libs, incl_libs, skip_mods)\n",
    "        self.aliases = {n:o.__name__ for n,o in (ns or {}).items() if isinstance(o, ModuleType)}\n",
    "        \n",
    "    def __getitem__(self, s): \n",
    "        if '.' in s:\n",
    "            pre,post = s.split('.', 1)\n",
    "            if pre in self.aliases: s = f\"{self.aliases[pre]}.{post}\"\n",
    "        return self.syms.get(s, None)\n",
    "\n",
    "    def doc(self, sym):\n",
    "        \"Link to docs for `sym`\"\n",
    "        res = self[sym]\n",
    "        return res[0] if isinstance(res, tuple) else res\n",
    "\n",
    "    def code(self, sym):\n",
    "        \"Link to source code for `sym`\"\n",
    "        res = self[sym]\n",
    "        if not isinstance(res, tuple): return None\n",
    "        _,py,gh = res\n",
    "        line = _lineno(sym, py)\n",
    "        return f'{gh}#L{line}'\n",
    "    \n",
    "    def _link_sym(self, m):\n",
    "        l = m.group(1)\n",
    "        s = self.doc(l)\n",
    "        if s is None: return m.group(0)\n",
    "        l = l.replace('\\\\', r'\\\\')\n",
    "        if m.group(0).endswith('()`'): l += '()'\n",
    "        return rf\"[`{l}`]({s})\"\n",
    "\n",
    "    def link_line(self, l): return _re_backticks.sub(self._link_sym, l)\n",
    "\n",
    "    def linkify(self, md):\n",
    "        if md:\n",
    "            in_fence=False\n",
    "            lines = md.splitlines()\n",
    "            for i,l in enumerate(lines):\n",
    "                if l.startswith(\"```\"): in_fence=not in_fence\n",
    "                elif not l.startswith('    ') and not in_fence: lines[i] = self.link_line(l)\n",
    "            return '\\n'.join(lines)"
   ]
  },
  {
   "cell_type": "markdown",
   "metadata": {},
   "source": [
    "Indexing returns a link to the symbol's docs, along with the name of the source file the source URL if available."
   ]
  },
  {
   "cell_type": "code",
   "execution_count": null,
   "metadata": {},
   "outputs": [
    {
     "data": {
      "text/plain": [
       "('https://nbdev.fast.ai/api/doclinks.html#nbdevlookup',\n",
       " 'nbdev/doclinks.py',\n",
       " 'https://github.com/AnswerDotAI/nbdev/blob/main/nbdev/doclinks.py')"
      ]
     },
     "execution_count": null,
     "metadata": {},
     "output_type": "execute_result"
    }
   ],
   "source": [
    "c = NbdevLookup()\n",
    "c['nbdev.doclinks.NbdevLookup']"
   ]
  },
  {
   "cell_type": "code",
   "execution_count": null,
   "metadata": {},
   "outputs": [
    {
     "data": {
      "text/markdown": [
       "---\n",
       "\n",
       "[source](https://github.com/AnswerDotAI/nbdev/blob/main/nbdev/doclinks.py#L273){target=\"_blank\" style=\"float:right; font-size:smaller\"}\n",
       "\n",
       "### NbdevLookup.doc\n",
       "\n",
       ">      NbdevLookup.doc (sym)\n",
       "\n",
       "*Link to docs for `sym`*"
      ],
      "text/plain": [
       "---\n",
       "\n",
       "[source](https://github.com/AnswerDotAI/nbdev/blob/main/nbdev/doclinks.py#L273){target=\"_blank\" style=\"float:right; font-size:smaller\"}\n",
       "\n",
       "### NbdevLookup.doc\n",
       "\n",
       ">      NbdevLookup.doc (sym)\n",
       "\n",
       "*Link to docs for `sym`*"
      ]
     },
     "execution_count": null,
     "metadata": {},
     "output_type": "execute_result"
    }
   ],
   "source": [
    "show_doc(NbdevLookup.doc)"
   ]
  },
  {
   "cell_type": "code",
   "execution_count": null,
   "metadata": {},
   "outputs": [
    {
     "data": {
      "text/plain": [
       "'https://nbdev.fast.ai/api/doclinks.html#nbdevlookup'"
      ]
     },
     "execution_count": null,
     "metadata": {},
     "output_type": "execute_result"
    }
   ],
   "source": [
    "c.doc('nbdev.doclinks.NbdevLookup')"
   ]
  },
  {
   "cell_type": "markdown",
   "metadata": {},
   "source": [
    "Symbol names are taken from libraries registered using the 'nbdev' entry point. By default, all libraries with this entry point are searched, but full symbol names (including module prefix) are required."
   ]
  },
  {
   "cell_type": "code",
   "execution_count": null,
   "metadata": {},
   "outputs": [],
   "source": [
    "assert c.doc('numpy.array').startswith('http')\n",
    "assert not c.doc('numpy.Array')\n",
    "assert c.doc('NbdevLookup').endswith('#nbdevlookup')\n",
    "assert not c.doc('array')"
   ]
  },
  {
   "cell_type": "markdown",
   "metadata": {},
   "source": [
    "Pass `strip_libs` to list libraries which should be available without requiring a module prefix."
   ]
  },
  {
   "cell_type": "code",
   "execution_count": null,
   "metadata": {},
   "outputs": [],
   "source": [
    "c = NbdevLookup(strip_libs=('nbdev', 'nbdev_numpy'))\n",
    "assert c.doc('array').startswith('http')"
   ]
  },
  {
   "cell_type": "code",
   "execution_count": null,
   "metadata": {},
   "outputs": [
    {
     "data": {
      "text/markdown": [
       "---\n",
       "\n",
       "[source](https://github.com/AnswerDotAI/nbdev/blob/main/nbdev/doclinks.py#L274){target=\"_blank\" style=\"float:right; font-size:smaller\"}\n",
       "\n",
       "### NbdevLookup.code\n",
       "\n",
       ">      NbdevLookup.code (sym)\n",
       "\n",
       "*Link to source code for `sym`*"
      ],
      "text/plain": [
       "---\n",
       "\n",
       "[source](https://github.com/AnswerDotAI/nbdev/blob/main/nbdev/doclinks.py#L274){target=\"_blank\" style=\"float:right; font-size:smaller\"}\n",
       "\n",
       "### NbdevLookup.code\n",
       "\n",
       ">      NbdevLookup.code (sym)\n",
       "\n",
       "*Link to source code for `sym`*"
      ]
     },
     "execution_count": null,
     "metadata": {},
     "output_type": "execute_result"
    }
   ],
   "source": [
    "show_doc(NbdevLookup.code)"
   ]
  },
  {
   "cell_type": "code",
   "execution_count": null,
   "metadata": {},
   "outputs": [
    {
     "data": {
      "text/plain": [
       "'https://github.com/AnswerDotAI/fastcore/blob/main/fastcore/net.py#LNone'"
      ]
     },
     "execution_count": null,
     "metadata": {},
     "output_type": "execute_result"
    }
   ],
   "source": [
    "NbdevLookup().code('fastcore.net.urlsend')"
   ]
  },
  {
   "cell_type": "code",
   "execution_count": null,
   "metadata": {},
   "outputs": [
    {
     "data": {
      "text/markdown": [
       "---\n",
       "\n",
       "[source](https://github.com/AnswerDotAI/nbdev/blob/main/nbdev/doclinks.py#L292){target=\"_blank\" style=\"float:right; font-size:smaller\"}\n",
       "\n",
       "### NbdevLookup.linkify\n",
       "\n",
       ">      NbdevLookup.linkify (md)"
      ],
      "text/plain": [
       "---\n",
       "\n",
       "[source](https://github.com/AnswerDotAI/nbdev/blob/main/nbdev/doclinks.py#L292){target=\"_blank\" style=\"float:right; font-size:smaller\"}\n",
       "\n",
       "### NbdevLookup.linkify\n",
       "\n",
       ">      NbdevLookup.linkify (md)"
      ]
     },
     "execution_count": null,
     "metadata": {},
     "output_type": "execute_result"
    }
   ],
   "source": [
    "show_doc(NbdevLookup.linkify)"
   ]
  },
  {
   "cell_type": "code",
   "execution_count": null,
   "metadata": {},
   "outputs": [],
   "source": [
    "md = \"\"\"This is a link to `numpy.array` and to `array()` and to `get_config()` but not a link to `foobar`.\n",
    "And not a link to <code>dict2nb</code>.\n",
    "\n",
    "    This is not a link to `get_config`\n",
    "\n",
    "```\n",
    "This isn't a link to `get_config` either\n",
    "```\"\"\""
   ]
  },
  {
   "cell_type": "code",
   "execution_count": null,
   "metadata": {},
   "outputs": [
    {
     "name": "stdout",
     "output_type": "stream",
     "text": [
      "This is a link to [`numpy.array`](https://numpy.org/doc/stable/reference/generated/numpy.array.html#numpy.array) and to `array()` and to [`get_config()`](https://nbdev.fast.ai/api/config.html#get_config) but not a link to `foobar`.\n",
      "And not a link to <code>dict2nb</code>.\n",
      "\n",
      "    This is not a link to `get_config`\n",
      "\n",
      "```\n",
      "This isn't a link to `get_config` either\n",
      "```\n"
     ]
    }
   ],
   "source": [
    "#|eval: false\n",
    "print(NbdevLookup(('nbdev','numpy')).linkify(md))"
   ]
  },
  {
   "cell_type": "code",
   "execution_count": null,
   "metadata": {},
   "outputs": [],
   "source": [
    "# Test code blocks\n",
    "md = \"\"\"```python\n",
    "def foo():\n",
    "    return `bar`\n",
    "```\"\"\"\n",
    "assert NbdevLookup().linkify(md) == md"
   ]
  },
  {
   "cell_type": "code",
   "execution_count": null,
   "metadata": {},
   "outputs": [
    {
     "data": {
      "text/plain": [
       "'[`builtins.str.split`](https://docs.python.org/3/library/stdtypes.html#str.split)'"
      ]
     },
     "execution_count": null,
     "metadata": {},
     "output_type": "execute_result"
    }
   ],
   "source": [
    "# Test builtins\n",
    "md = \"`builtins.str.split`\"\n",
    "NbdevLookup().linkify(md)"
   ]
  },
  {
   "cell_type": "code",
   "execution_count": null,
   "metadata": {},
   "outputs": [
    {
     "data": {
      "text/plain": [
       "'[`str.split`](https://docs.python.org/3/library/stdtypes.html#str.split) and [`str`](https://docs.python.org/3/library/stdtypes.html#str)'"
      ]
     },
     "execution_count": null,
     "metadata": {},
     "output_type": "execute_result"
    }
   ],
   "source": [
    "# ... now with stripping\n",
    "md = \"`str.split` and `str`\"\n",
    "NbdevLookup('nbdev_stdlib').linkify(md)"
   ]
  },
  {
   "cell_type": "markdown",
   "metadata": {},
   "source": [
    "When there is a conflict, the linkification will apply in the order of the stripped libraries and then by alphabetical order. For example, `enumerate` is both a builtin and a function in the threading module. However, since builtins comes first alphabetically, it will take priority"
   ]
  },
  {
   "cell_type": "code",
   "execution_count": null,
   "metadata": {},
   "outputs": [
    {
     "data": {
      "text/plain": [
       "'[`enumerate`](https://docs.python.org/3/library/functions.html#enumerate), [`builtins.enumerate`](https://docs.python.org/3/library/functions.html#enumerate) and [`threading.enumerate`](https://docs.python.org/3/library/threading.html#threading.enumerate)'"
      ]
     },
     "execution_count": null,
     "metadata": {},
     "output_type": "execute_result"
    }
   ],
   "source": [
    "md = \"`enumerate`, `builtins.enumerate` and `threading.enumerate`\"\n",
    "NbdevLookup(('nbdev_stdlib')).linkify(md)"
   ]
  },
  {
   "cell_type": "markdown",
   "metadata": {},
   "source": [
    "We can also take the `find()` function as another instance, it exists as a standard library and in numpy. Therefore, depending on the order of stripped libraries we pass, `find()` will link to either numpy or standard library."
   ]
  },
  {
   "cell_type": "code",
   "execution_count": null,
   "metadata": {},
   "outputs": [
    {
     "data": {
      "text/plain": [
       "'[`find()`](https://numpy.org/doc/stable/reference/generated/numpy.char.find.html#numpy.char.find)'"
      ]
     },
     "execution_count": null,
     "metadata": {},
     "output_type": "execute_result"
    }
   ],
   "source": [
    "md = \"`find()`\"\n",
    "NbdevLookup(('nbdev_numpy','nbdev_stdlib')).linkify(md)"
   ]
  },
  {
   "cell_type": "code",
   "execution_count": null,
   "metadata": {},
   "outputs": [
    {
     "data": {
      "text/plain": [
       "'[`find()`](https://docs.python.org/3/library/gettext.html#gettext.find)'"
      ]
     },
     "execution_count": null,
     "metadata": {},
     "output_type": "execute_result"
    }
   ],
   "source": [
    "md = \"`find()`\"\n",
    "NbdevLookup(('nbdev_stdlib','nbdev_numpy')).linkify(md)"
   ]
  },
  {
   "cell_type": "markdown",
   "metadata": {},
   "source": [
    "You can also use NbdevLookup with import aliases like the following:"
   ]
  },
  {
   "cell_type": "code",
   "execution_count": null,
   "metadata": {},
   "outputs": [],
   "source": [
    "import numpy as np"
   ]
  },
  {
   "cell_type": "code",
   "execution_count": null,
   "metadata": {},
   "outputs": [
    {
     "data": {
      "text/plain": [
       "'this is an aliased import link [`np.array`](https://numpy.org/doc/stable/reference/generated/numpy.array.html#numpy.array)'"
      ]
     },
     "execution_count": null,
     "metadata": {},
     "output_type": "execute_result"
    }
   ],
   "source": [
    "NbdevLookup(ns=globals()).linkify('this is an aliased import link `np.array`')"
   ]
  },
  {
   "cell_type": "markdown",
   "metadata": {},
   "source": [
    "## Export -"
   ]
  },
  {
   "cell_type": "code",
   "execution_count": null,
   "metadata": {},
   "outputs": [],
   "source": [
    "#|eval: false\n",
    "#|hide\n",
    "Path('../nbdev/export.py').unlink(missing_ok=True)\n",
    "nbdev_export()\n",
    "\n",
    "g = exec_new('import nbdev.export')\n",
    "assert hasattr(g['nbdev'].export, 'nb_export')\n",
    "from nbdev._modidx import d\n",
    "assert d['syms']['nbdev.doclinks']['nbdev.doclinks.NbdevLookup'][0]"
   ]
  },
  {
   "cell_type": "code",
   "execution_count": null,
   "metadata": {},
   "outputs": [],
   "source": []
  }
 ],
 "metadata": {
  "kernelspec": {
   "display_name": "python3",
   "language": "python",
   "name": "python3"
  }
 },
 "nbformat": 4,
 "nbformat_minor": 4
}
